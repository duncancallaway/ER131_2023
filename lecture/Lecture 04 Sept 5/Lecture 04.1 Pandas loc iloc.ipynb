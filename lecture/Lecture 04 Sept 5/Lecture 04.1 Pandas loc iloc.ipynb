{
 "cells": [
  {
   "cell_type": "markdown",
   "metadata": {},
   "source": [
    "# Pandas .loc and .iloc\n",
    "Duncan Callaway\n",
    "\n",
    "My objective in this notebook is to teach people how to access the information in a Pandas dataframe."
   ]
  },
  {
   "cell_type": "code",
   "execution_count": null,
   "metadata": {},
   "outputs": [],
   "source": [
    "import pandas as pd"
   ]
  },
  {
   "cell_type": "markdown",
   "metadata": {},
   "source": [
    "Let's load in the California ISO data we used last time"
   ]
  },
  {
   "cell_type": "code",
   "execution_count": null,
   "metadata": {},
   "outputs": [],
   "source": [
    "caiso_data = pd.read_csv('CAISO_2017to2018.csv')"
   ]
  },
  {
   "cell_type": "code",
   "execution_count": null,
   "metadata": {},
   "outputs": [],
   "source": [
    "caiso_data.head()"
   ]
  },
  {
   "cell_type": "markdown",
   "metadata": {},
   "source": [
    "### Q: What do you get if you call the dict of lists with a key?"
   ]
  },
  {
   "cell_type": "code",
   "execution_count": null,
   "metadata": {},
   "outputs": [],
   "source": [
    "caiso_data['BIOGAS']"
   ]
  },
  {
   "cell_type": "code",
   "execution_count": null,
   "metadata": {},
   "outputs": [],
   "source": [
    "type(caiso_data['BIOGAS'])"
   ]
  },
  {
   "cell_type": "markdown",
   "metadata": {},
   "source": [
    "Ans: the list associated with the key.  This is called a pandas 'series'"
   ]
  },
  {
   "cell_type": "markdown",
   "metadata": {},
   "source": [
    "### Q: Figure out how to get solar production at 2pm on August 29 2017"
   ]
  },
  {
   "cell_type": "markdown",
   "metadata": {},
   "source": [
    "First let's check that we've got the right index for the time we want:"
   ]
  },
  {
   "cell_type": "code",
   "execution_count": null,
   "metadata": {},
   "outputs": [],
   "source": [
    "caiso_data['Unnamed: 0'][14]"
   ]
  },
  {
   "cell_type": "markdown",
   "metadata": {},
   "source": [
    "Now call the `SOLAR PV` column"
   ]
  },
  {
   "cell_type": "code",
   "execution_count": null,
   "metadata": {},
   "outputs": [],
   "source": [
    "caiso_data['SOLAR PV'][14]"
   ]
  },
  {
   "cell_type": "markdown",
   "metadata": {},
   "source": [
    "### Anatomy of the data frame.\n",
    "\n",
    "Let's talk a little about the anatomy of the data frame.\n",
    "\n",
    "<img src=\"dataframe_anatomy.png\" width=\"800px\" align=\"left\" float=\"left\"/>\n",
    "\n",
    "We have the following important attributes:\n",
    "1. Rows\n",
    "2. Columns\n",
    "2. Index\n",
    "3. Column names\n",
    "\n",
    "The \"index\" can be numeric, but as we'll see we can also make the indices strings.  "
   ]
  },
  {
   "cell_type": "code",
   "execution_count": null,
   "metadata": {},
   "outputs": [],
   "source": [
    "caiso_data = pd.read_csv('CAISO_2017to2018.csv')\n",
    "caiso_data.columns"
   ]
  },
  {
   "cell_type": "markdown",
   "metadata": {},
   "source": [
    "Note that we can't reassign easily because column and index names lists are immutable.  Here is the workaround:"
   ]
  },
  {
   "cell_type": "code",
   "execution_count": null,
   "metadata": {},
   "outputs": [],
   "source": [
    "cols = caiso_data.columns.tolist()\n",
    "cols[0] = 'Date and time'\n",
    "caiso_data.columns = cols\n",
    "caiso_data"
   ]
  },
  {
   "cell_type": "markdown",
   "metadata": {},
   "source": [
    "Ok, that looks a little better for now.  \n",
    "\n",
    "As you can see, all the data are the same type of numeric value -- MWh.  \n",
    "\n",
    "In these cases, sometimes it's natural to \"stack\" the data.  \n",
    "\n",
    "We could do the stacking with a pandas command, `.stack`"
   ]
  },
  {
   "cell_type": "markdown",
   "metadata": {},
   "source": [
    "## Indexing and slicing in Pandas"
   ]
  },
  {
   "cell_type": "markdown",
   "metadata": {},
   "source": [
    "First let's figure out how to slice these data frames.\n",
    "\n",
    "`.iloc` allows us to index and slice on **i**nteger row and column positions, like numpy:"
   ]
  },
  {
   "cell_type": "code",
   "execution_count": null,
   "metadata": {},
   "outputs": [],
   "source": [
    "caiso_data.iloc[1,1]"
   ]
  },
  {
   "cell_type": "markdown",
   "metadata": {},
   "source": [
    "But what's nice about `.iloc` is that you can also slice.  It works just like numpy.\n",
    "\n",
    "### Q: Take a slice of the `caiso_data` dataframe that grabs the first four columns of data and the first 10 rows"
   ]
  },
  {
   "cell_type": "code",
   "execution_count": null,
   "metadata": {},
   "outputs": [],
   "source": [
    "caiso_data.iloc[0:10, :4]"
   ]
  },
  {
   "cell_type": "markdown",
   "metadata": {},
   "source": [
    "### Q: What would you do if you wanted to get the *last* 10 rows?"
   ]
  },
  {
   "cell_type": "code",
   "execution_count": null,
   "metadata": {},
   "outputs": [],
   "source": [
    "caiso_data.iloc[-10:, :4]"
   ]
  },
  {
   "cell_type": "markdown",
   "metadata": {},
   "source": [
    "### Q: Can you print out the last ten rows in reverse order?"
   ]
  },
  {
   "cell_type": "code",
   "execution_count": null,
   "metadata": {},
   "outputs": [],
   "source": [
    "caiso_data.iloc[:-10:-1,:4]"
   ]
  },
  {
   "cell_type": "markdown",
   "metadata": {},
   "source": [
    "`.loc` is similar to `.iloc`, but it allows you to call the index and column names:"
   ]
  },
  {
   "cell_type": "code",
   "execution_count": null,
   "metadata": {},
   "outputs": [],
   "source": [
    "caiso_data.loc[0:5,'Date and time']"
   ]
  },
  {
   "cell_type": "markdown",
   "metadata": {},
   "source": [
    "You can even slice with column names:"
   ]
  },
  {
   "cell_type": "code",
   "execution_count": null,
   "metadata": {},
   "outputs": [],
   "source": [
    "caiso_data.loc[0:5,'Date and time':'BIOGAS']"
   ]
  },
  {
   "cell_type": "markdown",
   "metadata": {},
   "source": [
    "### Q: Is .loc end-inclusive or exclusive when you slice?\n",
    "Ans: *inclusive*.  This is because it requires less knowledge about other rows in the DataFrame.\n",
    "\n",
    "Note that this is true for both the index and the column names."
   ]
  },
  {
   "cell_type": "markdown",
   "metadata": {},
   "source": [
    "## Recap\n",
    "* Pandas dataframes are sophisticated dicts of lists.\n",
    "    * They have attributes like columns and index that have special meaning in the pandas context.\n",
    "    * You can store any combination of data types in the dataframe\n",
    "* You can access information in them as though they are dicts of lists\n",
    "* But you can also use the .loc and .iloc methods to access information in a way similar to numpy, including clean slicing."
   ]
  }
 ],
 "metadata": {
  "kernelspec": {
   "display_name": "Python 3",
   "language": "python",
   "name": "python3"
  },
  "language_info": {
   "codemirror_mode": {
    "name": "ipython",
    "version": 3
   },
   "file_extension": ".py",
   "mimetype": "text/x-python",
   "name": "python",
   "nbconvert_exporter": "python",
   "pygments_lexer": "ipython3",
   "version": "3.8.3"
  }
 },
 "nbformat": 4,
 "nbformat_minor": 2
}
